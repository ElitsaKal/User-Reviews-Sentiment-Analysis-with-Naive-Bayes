{
 "cells": [
  {
   "cell_type": "code",
   "execution_count": 1,
   "metadata": {},
   "outputs": [],
   "source": [
    "import csv\n",
    "import pandas as pd\n",
    "import matplotlib.pyplot as plt\n",
    "import seaborn as sns\n",
    "sns.set()\n",
    "import re\n",
    "from sklearn.utils import resample\n"
   ]
  },
  {
   "cell_type": "code",
   "execution_count": 2,
   "metadata": {},
   "outputs": [
    {
     "name": "stdout",
     "output_type": "stream",
     "text": [
      "Skipping row 1148: ['Data Analysis with Excel Pivot Tables', 'Creating an output structure of the FMCG model', '5', 'I remember Ross saying Pivot\"', ' \"Pivot\" in F.R.I.E.N.D.S  ^__^\"']\n",
      "Skipping row 1315: ['Data Analysis with Excel Pivot Tables', 'This is how the report can be used in practice by high-level executives', '4', 'Well, it\\'s a great course and I learned something new. But I\\'ll prefer if the practical aspect and dataset used would be one that everyone can relate to - whether an economist or not or an accountant or not. I didn\\'t relate well with the practical aspect because I didn\\'t understand those net sales and so on. That wasn\\'t my scope of study in school so I didn\\'t really get along well (or maybe the course can be renamed to Data Analysis with Pivot Tables For Financial Analysts\"', ' lol). ']\n",
      "Skipping row 1316: ['But all the same', ' thanks so much to the instructor. You did a great job. God bless.\"']\n",
      "Skipping row 1465: ['Data Cleaning and Preprocessing with pandas', 'A Few Comments on Using .loc[] and .iloc[]', '4', 'It was great in giving me an overview in how pandas work , though the course title was a bit misleading , since we didn\\'t get to clean\" any data ', ' for example use .fillna() and such\"']\n",
      "Skipping row 1488: ['Thank you.\"']\n",
      "Skipping row 2866: ['Git and GitHub', 'Branching', '4', \"It's really useful but it needs some more commands or how to act in different situations for Example: when I merge branches sometimes it asks me to make a commit massage and for beginner how should I know\", ' I must press : then wq or something\"\"']\n",
      "Skipping row 2984: [\"That's the first course I am truly disappointed.\"]\n",
      "Skipping row 2985: ['The content is good', ' and it would be a 4-star rating if it would be complete. ']\n",
      "Skipping row 2986: ['2 stars', ' because the insights are good', \" but I don't like the presenting style. There are visually better videos on this platform\"]\n",
      "Skipping row 3011: ['Intermediate Python Programming', 'Working with Python Strings at the Next Level', '3', 'I really enjoyed the piece on lambda functions, it was very well structured but the rest of the course was very heavy on string formatting. I feel like the content should have been a beyond the Python Bootcamp\". Again', ' the lambda function lectures were great but I expected at least one more difficult topic to be included. The strings section could have been its own 30-45 minute course since the difficulty is not high', ' its just a lot of variation and syntax practice.\"']\n",
      "Skipping row 3948: ['Introduction to Business Analytics', 'Practical case study (part 2)', '3', '1. Add more practice. As a person, who learns by doing things (I have bad perception by listening or watching) it is crucial for me to have more practice. Otherwise, I would have to do some practice on my own, which would cost me extra time and money. I suppose, now I need to find some simulator on analyzing company\\'s data and make my own conclusions.\\n2. Try to widen the range of examples: online services, medical centers, recreational institutions etc.\\n3. I want double mouse click to expand video. And I want space to pause/play the video. Just as on youtube. Now Space triggers the last clicked button on the videoplayer. So, sometimes I click Space and video simply quits fullscreen.\\n4. I want the autoplay function to play videos right away and open them in full screen (or in the same view, as the previous one was). Now, after the previous video is finished, I get simply redirected to the next one, which does not start.\\n5. I want the Next\" button somewhere in the video player', ' so I could proceed to the following video without waiting for the current one to end. Searching in the right panel is not convenient.\"']\n",
      "Skipping row 5254: ['Introduction to Data and Data Science', 'Why do we Need each of these Disciplines?', '5', 'I want to tell again:\\nExcellent', ' exceeded my expectations!\"\"']\n",
      "Skipping row 5858: []\n",
      "Skipping row 5859: ['As a teacher myself', ' I hope that your future modules are more engaging and instructional.\"']\n",
      "Skipping row 5915: []\n",
      "Skipping row 5916: ['Overall is great! I only can\\'t make it 5 stars because I can\\'\"']\n",
      "Skipping row 5919: ['Introduction to DAX', 'Calculation Groups', '4', 'I give 4 stars as, if you remove all the clutters, it is a course geared towards experienced users. The name with introduction\" is quite misleading. Other than this', ' good content and a lot I took away (again', ' best enjoyed if one is not new to DAX!)\"']\n",
      "Skipping row 6781: ['Introduction to Excel', 'Bridge Chart', '5', 'The course was great, even though the name of the course is Introduction to Excel\"', ' it is more than that.']\n",
      "Skipping row 6782: []\n",
      "Skipping row 7421: ['Introduction to Excel', 'Learn How to Create a Database', '2', 'Numbers stored as text\" error after creating the code column and trying to paste special values. This was mentioned on \"Create a Code\" by another student but hasn\\'t been answered. I\\'m going to keep going and tell it to ignore', ' let\\'s see if this derails the entire process.\"']\n",
      "Skipping row 7710: ['Introduction to Jupyter', 'Restarting the Kernel', '5', 'I enrolled in this course after completing the Introduction to Data and Data Science\" course', ' and this course exceeded my expectations! ']\n",
      "Skipping row 7711: []\n",
      "Skipping row 7712: ['The course was clear and concise and the topics covered were easy-to-understand due to the brief presentation.']\n",
      "Skipping row 7713: []\n",
      "Skipping row 7714: ['Jupyter shortcuts are quite interesting and the instructor has done a great job explaining their application.\"']\n",
      "Skipping row 8846: ['Machine Learning in Python', 'Heatmaps using Seaborn', '3', 'There are 2 repetitive videos about overfitting in different sections. Also in the last lecture, the lecturer said \\' But this topic for a next section\\' but there is no next section. The same was for scalers. The lecturer said smth like this We will show how to scale different features separately\"', ' but never showed. And I expected something deeper and also with some practical homework/exercises which can be automatically checked. Like \"Write code to show scatter plot of \"Salaries\" csv file\". It is not bad', ' quite interesting but too way kinda shallow. \"']\n",
      "Skipping row 9756: ['Power BI', 'Workspaces', '2', 'This is one of, if not the worst course in the Data Science Fundamentals\" library. The audio quality is very low', ' it was hard to understand at multiple situations. The course itself doesn\\'t cover fundamentals and feels very advanced at times. Most of the learnings steps are scattered and my overall impression is that it\\'s disorganized. I expected more. \"']\n",
      "Skipping row 9948: ['Probability', 'Summary of Combinatorics', '4', 'Too fast pace.\\nA similar video, such as Summary of Combinatorics', ' should have been included between each portion of combinatorics to help students catch up and see the distinctions up to that point.']\n",
      "Skipping row 10526: ['SQL', 'The CASE Statement', '5', 'Lots of knowledge & exercises in this course, really amazing! It would be even better, if the topic of variable\"', ' \"function\"', ' could be explained in more detailed', ' since I find these topic are quite challenging to me!']\n",
      "Skipping row 10527: []\n",
      "Skipping row 10528: ['Thank you', ' Martin!']\n",
      "Skipping row 10529: ['Great job!\"']\n",
      "Skipping row 10540: ['SQL', 'Databases vs spreadsheets', '5', 'The 365 Data Science\" courses are straight forward', ' understandable and with crystal clear explanation.\"']\n",
      "Skipping row 10555: ['SQL', 'Introduction to JOINs', '5', 'The course is very clear and strikes a good balance between theory and applications. The exercises follow the lessons closely and are clearly stated. However I think the course could benefit from more exercises, perhaps at the end of a section, like general\" exercises', ' where we can put into practice ']\n",
      "Skipping row 10556: ['several techniques as one as opposed on focusing ']\n",
      "Skipping row 10557: ['on the ones we just learned on the preceding video. \"']\n",
      "Skipping row 10883: []\n",
      "Skipping row 10884: ['Either display a code I can copy and paste (perhaps make it initially hidden with a button to unhide) or', ' preferably', ' show me the expected output from SQL so I can check my output and troubleshoot before peeking at the code.\"']\n",
      "Skipping row 10888: ['SQL', 'Databases vs spreadsheets', '4', 'I would easily give 5 stars for the visual aspect, because it is a great course. But I cannot agree with exceed my expectation\"', ' because it was only \"to be able to learn the material  and understand its concepts\"', ' which has been achieved. However', ' its contents and its presentation exceeds quality in many ways as in comparison to other platforms and study methods I have came across so far. \"']\n",
      "Skipping row 10988: ['SQL + Tableau', 'Problem 5: Organizing Charts 1-4 into a Beautiful Dashboard', '4', 'A practical project after the basic SQL\" course', ' pretty familiar to me! Not only for more sql practices', ' but a good introduction to \"Tableau\" as well. Highly recommanded after finishing the basic \"SQL\" course!\"']\n",
      "Skipping row 11660: ['Statistics', 'Practical Example - Descriptive Statistics', '4', 'I consider the word perfect\" a bit exaggerated so I didn\\'t say \"perfect\" for the course', ' but the course is really good.\"']\n",
      "Skipping row 12080: ['Who Does What in Finance', 'Intro to finance', '5', 'This course has excellent content on Who does what in Finance.\" I learned a great deal of information throughout. I loved the storytelling part of the course', ' including the infographic.']\n",
      "Skipping row 12081: []\n",
      "Skipping row 12083: []\n",
      "Skipping row 12084: ['Loved it! <3 :D']\n",
      "Skipping row 12085: ['Looking forward to learn other Finance courses! \"']\n",
      "             course_name                lecture_name review_rating  \\\n",
      "0  A/B Testing in Python  How to set up the A/B test             5   \n",
      "1  A/B Testing in Python  How to set up the A/B test             5   \n",
      "2  A/B Testing in Python  How to set up the A/B test             5   \n",
      "3  A/B Testing in Python  How to set up the A/B test             5   \n",
      "4  A/B Testing in Python                  Conclusion             5   \n",
      "\n",
      "                                      review_comment  \n",
      "0  If she could provide more details about the pr...  \n",
      "1                                               nice  \n",
      "2                                   excellent course  \n",
      "3                                               nice  \n",
      "4            It was an experiential learning process  \n"
     ]
    }
   ],
   "source": [
    "# Path to your csv file\n",
    "file_path = 'user_courses_review_09_2023.csv'\n",
    "\n",
    "# A list to hold rows of data\n",
    "data_list = []\n",
    "\n",
    "# Number of columns expected per row\n",
    "EXPECTED_COLUMNS = 4  # Change this to the number of columns you expect\n",
    "\n",
    "# Open the file and read each row\n",
    "with open(file_path, mode='r', newline='', encoding='utf-8') as file:\n",
    "    reader = csv.reader(file)\n",
    "    \n",
    "    # Optionally, capture the header (first row) if it exists\n",
    "    header = next(reader)\n",
    "    \n",
    "    # Read each row\n",
    "    for row in reader:\n",
    "        # Check if the row has the expected number of columns\n",
    "        if len(row) == EXPECTED_COLUMNS:\n",
    "            # If the row is as expected, append it to the list\n",
    "            data_list.append(row)\n",
    "        else:\n",
    "            # If not, handle it: skip, log, etc.\n",
    "            print(f\"Skipping row {reader.line_num}: {row}\")\n",
    "\n",
    "# Convert the list of data into a pandas DataFrame\n",
    "data = pd.DataFrame(data_list, columns=header)  # Include columns parameter if header was captured\n",
    "\n",
    "# Show the first few rows of the dataframe\n",
    "print(data.head())"
   ]
  },
  {
   "cell_type": "markdown",
   "metadata": {},
   "source": [
    "## Reading the data"
   ]
  },
  {
   "cell_type": "code",
   "execution_count": null,
   "metadata": {},
   "outputs": [],
   "source": []
  },
  {
   "cell_type": "code",
   "execution_count": 3,
   "metadata": {},
   "outputs": [
    {
     "data": {
      "text/plain": [
       "(course_name       object\n",
       " lecture_name      object\n",
       " review_rating     object\n",
       " review_comment    object\n",
       " dtype: object,\n",
       " course_name        object\n",
       " lecture_name       object\n",
       " review_rating     float64\n",
       " review_comment     object\n",
       " dtype: object,\n",
       " course_name       0\n",
       " lecture_name      0\n",
       " review_rating     2\n",
       " review_comment    0\n",
       " dtype: int64)"
      ]
     },
     "execution_count": 3,
     "metadata": {},
     "output_type": "execute_result"
    }
   ],
   "source": [
    "# Check data types of the columns\n",
    "data_types = data.dtypes\n",
    "\n",
    "# Convert 'review_rating' to a numeric type if it's currently an object (string)\n",
    "if data['review_rating'].dtype == 'object':\n",
    "    # Force invalid parsing to NaN so we can find and analyze these rows later\n",
    "    data['review_rating'] = pd.to_numeric(data['review_rating'], errors='coerce')\n",
    "\n",
    "# Check the new data types and find the number of missing values after conversion\n",
    "new_data_types = data.dtypes\n",
    "missing_values = data.isnull().sum()\n",
    "\n",
    "data_types, new_data_types, missing_values\n"
   ]
  },
  {
   "cell_type": "markdown",
   "metadata": {},
   "source": [
    "## Summary statistics"
   ]
  },
  {
   "cell_type": "code",
   "execution_count": 4,
   "metadata": {},
   "outputs": [
    {
     "data": {
      "image/png": "[encoded data removed]",
      "text/plain": [
       "<Figure size 1000x600 with 1 Axes>"
      ]
     },
     "metadata": {},
     "output_type": "display_data"
    },
    {
     "data": {
      "text/plain": [
       "count    10824.000000\n",
       "mean         4.840632\n",
       "std          0.525791\n",
       "min          1.000000\n",
       "25%          5.000000\n",
       "50%          5.000000\n",
       "75%          5.000000\n",
       "max          5.000000\n",
       "Name: review_rating, dtype: float64"
      ]
     },
     "execution_count": 4,
     "metadata": {},
     "output_type": "execute_result"
    }
   ],
   "source": [
    "# Summary statistics for 'review_rating'\n",
    "review_rating_stats = data['review_rating'].describe()\n",
    "\n",
    "sns.set_style(style = \"white\")\n",
    "# Distribution of 'review_rating'\n",
    "plt.figure(figsize=(10, 6))\n",
    "plt.hist(data['review_rating'].dropna(), bins=range(1, 7), align='left', rwidth=0.9, color='#008b8b', edgecolor='gray')\n",
    "plt.title('Distribution of Review Ratings')\n",
    "plt.xlabel('Rating')\n",
    "plt.ylabel('Frequency')\n",
    "plt.xticks(range(1, 6))\n",
    "plt.grid(axis='y')\n",
    "plt.show()\n",
    "\n",
    "review_rating_stats\n"
   ]
  },
  {
   "cell_type": "markdown",
   "metadata": {},
   "source": [
    "## Missing values"
   ]
  },
  {
   "cell_type": "code",
   "execution_count": 5,
   "metadata": {},
   "outputs": [
    {
     "name": "stderr",
     "output_type": "stream",
     "text": [
      "C:\\Users\\elits\\AppData\\Local\\Temp\\ipykernel_6720\\4009236248.py:8: SettingWithCopyWarning: \n",
      "A value is trying to be set on a copy of a slice from a DataFrame.\n",
      "Try using .loc[row_indexer,col_indexer] = value instead\n",
      "\n",
      "See the caveats in the documentation: https://pandas.pydata.org/pandas-docs/stable/user_guide/indexing.html#returning-a-view-versus-a-copy\n",
      "  clean_data['comment_length'] = clean_data['review_comment'].apply(len)\n"
     ]
    },
    {
     "data": {
      "text/plain": [
       "((10824, 4),\n",
       "                 review_rating  comment_length\n",
       " review_rating        1.000000       -0.281202\n",
       " comment_length      -0.281202        1.000000)"
      ]
     },
     "execution_count": 5,
     "metadata": {},
     "output_type": "execute_result"
    }
   ],
   "source": [
    "# Remove rows with missing values\n",
    "clean_data = data.dropna()\n",
    "\n",
    "# Check the new shape of the data\n",
    "new_shape = clean_data.shape\n",
    "\n",
    "# For correlation analysis, we first need to add a new column for the length of the comments\n",
    "clean_data['comment_length'] = clean_data['review_comment'].apply(len)\n",
    "\n",
    "# Calculate the correlation between 'review_rating' and 'comment_length'\n",
    "correlation = clean_data[['review_rating', 'comment_length']].corr()\n",
    "\n",
    "new_shape, correlation\n"
   ]
  },
  {
   "cell_type": "markdown",
   "metadata": {},
   "source": [
    "## RegEx"
   ]
  },
  {
   "cell_type": "code",
   "execution_count": 6,
   "metadata": {},
   "outputs": [
    {
     "data": {
      "text/plain": [
       "{'positive_emphasis': 6147,\n",
       " 'negative_emphasis': 23,\n",
       " 'question': 31,\n",
       " 'exclamation': 1180,\n",
       " 'capital_words': 535}"
      ]
     },
     "execution_count": 6,
     "metadata": {},
     "output_type": "execute_result"
    }
   ],
   "source": [
    "# Define regex patterns to look for emphasis and sentiment\n",
    "patterns = {\n",
    "    \"positive_emphasis\": re.compile(r'\\b(great|good|excellent|amazing|love|best|awesome|fantastic)\\b', re.IGNORECASE),\n",
    "    \"negative_emphasis\": re.compile(r'\\b(bad|terrible|awful|poor|worst|hate|disappoint)\\b', re.IGNORECASE),\n",
    "    \"question\": re.compile(r'\\?'),\n",
    "    \"exclamation\": re.compile(r'!'),\n",
    "    \"capital_words\": re.compile(r'\\b[A-Z]{2,}\\b')  # words with all letters capitalized, and at least two characters long\n",
    "}\n",
    "\n",
    "# Initialize a dictionary to hold the counts of each pattern\n",
    "pattern_counts = {key: 0 for key in patterns}\n",
    "\n",
    "# Scan each review and count the occurrences of each pattern\n",
    "for review in clean_data['review_comment']:\n",
    "    for key, pattern in patterns.items():\n",
    "        if re.search(pattern, review):\n",
    "            pattern_counts[key] += 1\n",
    "\n",
    "pattern_counts\n"
   ]
  },
  {
   "cell_type": "code",
   "execution_count": 7,
   "metadata": {},
   "outputs": [],
   "source": [
    "from sklearn.model_selection import train_test_split\n",
    "from sklearn.feature_extraction.text import TfidfVectorizer\n",
    "from sklearn.naive_bayes import MultinomialNB\n",
    "from sklearn.pipeline import make_pipeline\n",
    "from sklearn.metrics import classification_report, confusion_matrix\n",
    "import string\n",
    "\n",
    "# Function for text cleaning and normalization\n",
    "def clean_text(text):\n",
    "    text = text.lower()  # convert text to lowercase\n",
    "    text = text.translate(str.maketrans('', '', string.punctuation))  # remove punctuation\n",
    "    return text\n",
    "\n",
    "# Apply the function to clean the reviews\n",
    "clean_data.loc[:, 'review_comment'] = clean_data.loc[:, 'review_comment'].apply(clean_text)\n",
    "\n",
    "# Split data into features (X) and target label (y)\n",
    "X = clean_data.loc[:, 'review_comment']\n",
    "y = clean_data.loc[:, 'review_comment']\n",
    "\n",
    "# Split the data into training and testing sets\n",
    "X_train, X_test, y_train, y_test = train_test_split(X, y, test_size=0.2, random_state=42)\n",
    "\n",
    "\n"
   ]
  },
  {
   "cell_type": "markdown",
   "metadata": {},
   "source": [
    "## Training a Naive Bayes classifier for sentiment analysis"
   ]
  },
  {
   "cell_type": "code",
   "execution_count": 8,
   "metadata": {},
   "outputs": [
    {
     "name": "stderr",
     "output_type": "stream",
     "text": [
      "C:\\Users\\elits\\anaconda3\\Lib\\site-packages\\sklearn\\metrics\\_classification.py:1469: UndefinedMetricWarning: Precision and F-score are ill-defined and being set to 0.0 in labels with no predicted samples. Use `zero_division` parameter to control this behavior.\n",
      "  _warn_prf(average, modifier, msg_start, len(result))\n",
      "C:\\Users\\elits\\anaconda3\\Lib\\site-packages\\sklearn\\metrics\\_classification.py:1469: UndefinedMetricWarning: Precision and F-score are ill-defined and being set to 0.0 in labels with no predicted samples. Use `zero_division` parameter to control this behavior.\n",
      "  _warn_prf(average, modifier, msg_start, len(result))\n",
      "C:\\Users\\elits\\anaconda3\\Lib\\site-packages\\sklearn\\metrics\\_classification.py:1469: UndefinedMetricWarning: Precision and F-score are ill-defined and being set to 0.0 in labels with no predicted samples. Use `zero_division` parameter to control this behavior.\n",
      "  _warn_prf(average, modifier, msg_start, len(result))\n"
     ]
    },
    {
     "data": {
      "text/plain": [
       "array([[0, 0, 0, ..., 0, 0, 0],\n",
       "       [0, 0, 0, ..., 0, 0, 0],\n",
       "       [0, 0, 0, ..., 0, 0, 0],\n",
       "       ...,\n",
       "       [0, 0, 0, ..., 0, 0, 0],\n",
       "       [0, 0, 0, ..., 0, 0, 0],\n",
       "       [0, 0, 0, ..., 0, 0, 0]], dtype=int64)"
      ]
     },
     "execution_count": 8,
     "metadata": {},
     "output_type": "execute_result"
    }
   ],
   "source": [
    "# Initialize a TF-IDF Vectorizer\n",
    "vectorizer = TfidfVectorizer(stop_words='english')\n",
    "\n",
    "# Initialize the Multinomial Naive Bayes classifier\n",
    "model = MultinomialNB()\n",
    "\n",
    "# Create a pipeline that first vectorizes the text data then applies the Naive Bayes classifier\n",
    "text_clf = make_pipeline(vectorizer, model)\n",
    "\n",
    "# Train the model with the training data\n",
    "text_clf.fit(X_train, y_train)\n",
    "\n",
    "# Predict the categories of the test data\n",
    "y_pred = text_clf.predict(X_test)\n",
    "\n",
    "# Calculate the classification report\n",
    "report = classification_report(y_test, y_pred)\n",
    "\n",
    "# Calculate the confusion matrix\n",
    "conf_matrix = confusion_matrix(y_test, y_pred)\n",
    "\n",
    "#report\n",
    "conf_matrix"
   ]
  },
  {
   "cell_type": "markdown",
   "metadata": {},
   "source": [
    "## Resampling"
   ]
  },
  {
   "cell_type": "code",
   "execution_count": 9,
   "metadata": {},
   "outputs": [
    {
     "data": {
      "text/plain": [
       "review_rating\n",
       "5.0    9648\n",
       "4.0    6533\n",
       "3.0    2131\n",
       "2.0     592\n",
       "1.0     392\n",
       "Name: count, dtype: int64"
      ]
     },
     "execution_count": 9,
     "metadata": {},
     "output_type": "execute_result"
    }
   ],
   "source": [
    "# Separate the majority and minority classes\n",
    "df_majority = clean_data[clean_data.review_rating == 5]\n",
    "df_minority = clean_data[clean_data.review_rating < 5]\n",
    "\n",
    "# Upsample minority class\n",
    "df_minority_upsampled = resample(df_minority, \n",
    "                                 replace=True,     # sample with replacement\n",
    "                                 n_samples=len(df_majority),    # to match majority class\n",
    "                                 random_state=42) # reproducible results\n",
    "\n",
    "# Combine majority class with upsampled minority class\n",
    "df_upsampled = pd.concat([df_majority, df_minority_upsampled])\n",
    "\n",
    "# Display new class counts\n",
    "df_upsampled.review_rating.value_counts()\n"
   ]
  },
  {
   "cell_type": "code",
   "execution_count": 10,
   "metadata": {},
   "outputs": [
    {
     "data": {
      "text/plain": [
       "('              precision    recall  f1-score   support\\n\\n         1.0       1.00      0.19      0.31        75\\n         2.0       1.00      0.28      0.43       123\\n         3.0       0.90      0.55      0.68       396\\n         4.0       0.70      0.62      0.66      1323\\n         5.0       0.73      0.91      0.81      1943\\n\\n    accuracy                           0.74      3860\\n   macro avg       0.87      0.51      0.58      3860\\nweighted avg       0.75      0.74      0.72      3860\\n',\n",
       " array([[  14,    0,    6,   24,   31],\n",
       "        [   0,   34,    9,   53,   27],\n",
       "        [   0,    0,  218,  101,   77],\n",
       "        [   0,    0,    1,  818,  504],\n",
       "        [   0,    0,    8,  169, 1766]], dtype=int64))"
      ]
     },
     "execution_count": 10,
     "metadata": {},
     "output_type": "execute_result"
    }
   ],
   "source": [
    "# Split the upsampled data into features (X) and target label (y)\n",
    "X_upsampled = df_upsampled['review_comment']\n",
    "y_upsampled = df_upsampled['review_rating']\n",
    "\n",
    "# Split the upsampled data into training and testing sets\n",
    "X_train_upsampled, X_test_upsampled, y_train_upsampled, y_test_upsampled = train_test_split(\n",
    "    X_upsampled, y_upsampled, test_size=0.2, random_state=42)\n",
    "\n",
    "# Train the model with the upsampled training data\n",
    "text_clf_upsampled = make_pipeline(vectorizer, model)\n",
    "text_clf_upsampled.fit(X_train_upsampled, y_train_upsampled)\n",
    "\n",
    "# Predict the categories of the upsampled test data\n",
    "y_pred_upsampled = text_clf_upsampled.predict(X_test_upsampled)\n",
    "\n",
    "# Calculate the classification report for the upsampled data\n",
    "report_upsampled = classification_report(y_test_upsampled, y_pred_upsampled)\n",
    "\n",
    "# Calculate the confusion matrix for the upsampled data\n",
    "conf_matrix_upsampled = confusion_matrix(y_test_upsampled, y_pred_upsampled)\n",
    "\n",
    "report_upsampled, conf_matrix_upsampled\n"
   ]
  },
  {
   "cell_type": "markdown",
   "metadata": {},
   "source": [
    "## Classification task - redefing the problem as binary"
   ]
  },
  {
   "cell_type": "code",
   "execution_count": 11,
   "metadata": {},
   "outputs": [
    {
     "name": "stderr",
     "output_type": "stream",
     "text": [
      "C:\\Users\\elits\\anaconda3\\Lib\\site-packages\\sklearn\\metrics\\_classification.py:1469: UndefinedMetricWarning: Precision and F-score are ill-defined and being set to 0.0 in labels with no predicted samples. Use `zero_division` parameter to control this behavior.\n",
      "  _warn_prf(average, modifier, msg_start, len(result))\n",
      "C:\\Users\\elits\\anaconda3\\Lib\\site-packages\\sklearn\\metrics\\_classification.py:1469: UndefinedMetricWarning: Precision and F-score are ill-defined and being set to 0.0 in labels with no predicted samples. Use `zero_division` parameter to control this behavior.\n",
      "  _warn_prf(average, modifier, msg_start, len(result))\n",
      "C:\\Users\\elits\\anaconda3\\Lib\\site-packages\\sklearn\\metrics\\_classification.py:1469: UndefinedMetricWarning: Precision and F-score are ill-defined and being set to 0.0 in labels with no predicted samples. Use `zero_division` parameter to control this behavior.\n",
      "  _warn_prf(average, modifier, msg_start, len(result))\n"
     ]
    },
    {
     "data": {
      "image/png": "[encoded data removed]",
      "text/plain": [
       "<Figure size 800x600 with 2 Axes>"
      ]
     },
     "metadata": {},
     "output_type": "display_data"
    },
    {
     "data": {
      "text/html": [
       "<div>\n",
       "<style scoped>\n",
       "    .dataframe tbody tr th:only-of-type {\n",
       "        vertical-align: middle;\n",
       "    }\n",
       "\n",
       "    .dataframe tbody tr th {\n",
       "        vertical-align: top;\n",
       "    }\n",
       "\n",
       "    .dataframe thead th {\n",
       "        text-align: right;\n",
       "    }\n",
       "</style>\n",
       "<table border=\"1\" class=\"dataframe\">\n",
       "  <thead>\n",
       "    <tr style=\"text-align: right;\">\n",
       "      <th></th>\n",
       "      <th>precision</th>\n",
       "      <th>recall</th>\n",
       "      <th>f1-score</th>\n",
       "      <th>support</th>\n",
       "    </tr>\n",
       "  </thead>\n",
       "  <tbody>\n",
       "    <tr>\n",
       "      <th>bad</th>\n",
       "      <td>0.000000</td>\n",
       "      <td>0.000000</td>\n",
       "      <td>0.000000</td>\n",
       "      <td>83.000000</td>\n",
       "    </tr>\n",
       "    <tr>\n",
       "      <th>good</th>\n",
       "      <td>0.961663</td>\n",
       "      <td>1.000000</td>\n",
       "      <td>0.980457</td>\n",
       "      <td>2082.000000</td>\n",
       "    </tr>\n",
       "    <tr>\n",
       "      <th>accuracy</th>\n",
       "      <td>0.961663</td>\n",
       "      <td>0.961663</td>\n",
       "      <td>0.961663</td>\n",
       "      <td>0.961663</td>\n",
       "    </tr>\n",
       "    <tr>\n",
       "      <th>macro avg</th>\n",
       "      <td>0.480831</td>\n",
       "      <td>0.500000</td>\n",
       "      <td>0.490228</td>\n",
       "      <td>2165.000000</td>\n",
       "    </tr>\n",
       "    <tr>\n",
       "      <th>weighted avg</th>\n",
       "      <td>0.924795</td>\n",
       "      <td>0.961663</td>\n",
       "      <td>0.942869</td>\n",
       "      <td>2165.000000</td>\n",
       "    </tr>\n",
       "  </tbody>\n",
       "</table>\n",
       "</div>"
      ],
      "text/plain": [
       "              precision    recall  f1-score      support\n",
       "bad            0.000000  0.000000  0.000000    83.000000\n",
       "good           0.961663  1.000000  0.980457  2082.000000\n",
       "accuracy       0.961663  0.961663  0.961663     0.961663\n",
       "macro avg      0.480831  0.500000  0.490228  2165.000000\n",
       "weighted avg   0.924795  0.961663  0.942869  2165.000000"
      ]
     },
     "execution_count": 11,
     "metadata": {},
     "output_type": "execute_result"
    }
   ],
   "source": [
    "# Define a function to convert ratings into 'good' and 'bad'\n",
    "def binary_rating(rating):\n",
    "    if rating >= 4:\n",
    "        return 'good'\n",
    "    else:\n",
    "        return 'bad'\n",
    "\n",
    "# Apply the function to the 'review_rating' column\n",
    "binary_data = clean_data.copy()\n",
    "binary_data['review_rating'] = binary_data['review_rating'].apply(binary_rating)\n",
    "\n",
    "# Split data into features (X) and target label (y)\n",
    "X_binary = binary_data['review_comment']\n",
    "y_binary = binary_data['review_rating']\n",
    "\n",
    "# Split the data into training and testing sets\n",
    "X_train_binary, X_test_binary, y_train_binary, y_test_binary = train_test_split(\n",
    "    X_binary, y_binary, test_size=0.2, random_state=42)\n",
    "\n",
    "# Train the model with the binary training data\n",
    "text_clf_binary = make_pipeline(vectorizer, model)\n",
    "text_clf_binary.fit(X_train_binary, y_train_binary)\n",
    "\n",
    "# Predict the categories of the binary test data\n",
    "y_pred_binary = text_clf_binary.predict(X_test_binary)\n",
    "\n",
    "# Calculate the classification report for the binary data\n",
    "report_binary = classification_report(y_test_binary, y_pred_binary, output_dict=True)\n",
    "\n",
    "# Calculate the confusion matrix for the binary data\n",
    "conf_matrix_binary = confusion_matrix(y_test_binary, y_pred_binary)\n",
    "\n",
    "# Convert classification report to DataFrame for better visualization\n",
    "report_binary_df = pd.DataFrame(report_binary).transpose()\n",
    "\n",
    "# Plot confusion matrix as a heatmap\n",
    "plt.figure(figsize=(8, 6))\n",
    "sns.heatmap(conf_matrix_binary, annot=True, fmt='d', cmap='Blues', \n",
    "            xticklabels=['bad', 'good'], yticklabels=['bad', 'good'])\n",
    "plt.ylabel('Actual')\n",
    "plt.xlabel('Predicted')\n",
    "plt.title('Confusion Matrix')\n",
    "plt.show()\n",
    "\n",
    "report_binary_df\n"
   ]
  },
  {
   "cell_type": "code",
   "execution_count": 12,
   "metadata": {},
   "outputs": [
    {
     "data": {
      "text/plain": [
       "review_rating\n",
       "good    10448\n",
       "bad     10448\n",
       "Name: count, dtype: int64"
      ]
     },
     "execution_count": 12,
     "metadata": {},
     "output_type": "execute_result"
    }
   ],
   "source": [
    "# Separate the majority and minority classes\n",
    "df_majority_binary = binary_data[binary_data.review_rating == 'good']\n",
    "df_minority_binary = binary_data[binary_data.review_rating == 'bad']\n",
    "\n",
    "# Oversample minority class\n",
    "df_minority_upsampled_binary = resample(df_minority_binary, \n",
    "                                        replace=True,     # sample with replacement\n",
    "                                        n_samples=len(df_majority_binary),    # to match majority class\n",
    "                                        random_state=42) # reproducible results\n",
    "\n",
    "# Combine majority class with upsampled minority class\n",
    "df_upsampled_binary = pd.concat([df_majority_binary, df_minority_upsampled_binary])\n",
    "\n",
    "# Display new class counts\n",
    "df_upsampled_binary.review_rating.value_counts()\n"
   ]
  },
  {
   "cell_type": "code",
   "execution_count": 13,
   "metadata": {},
   "outputs": [
    {
     "data": {
      "image/png": "[encoded data removed]",
      "text/plain": [
       "<Figure size 800x600 with 2 Axes>"
      ]
     },
     "metadata": {},
     "output_type": "display_data"
    },
    {
     "data": {
      "text/html": [
       "<div>\n",
       "<style scoped>\n",
       "    .dataframe tbody tr th:only-of-type {\n",
       "        vertical-align: middle;\n",
       "    }\n",
       "\n",
       "    .dataframe tbody tr th {\n",
       "        vertical-align: top;\n",
       "    }\n",
       "\n",
       "    .dataframe thead th {\n",
       "        text-align: right;\n",
       "    }\n",
       "</style>\n",
       "<table border=\"1\" class=\"dataframe\">\n",
       "  <thead>\n",
       "    <tr style=\"text-align: right;\">\n",
       "      <th></th>\n",
       "      <th>precision</th>\n",
       "      <th>recall</th>\n",
       "      <th>f1-score</th>\n",
       "      <th>support</th>\n",
       "    </tr>\n",
       "  </thead>\n",
       "  <tbody>\n",
       "    <tr>\n",
       "      <th>bad</th>\n",
       "      <td>0.875114</td>\n",
       "      <td>0.940255</td>\n",
       "      <td>0.906516</td>\n",
       "      <td>2042.000000</td>\n",
       "    </tr>\n",
       "    <tr>\n",
       "      <th>good</th>\n",
       "      <td>0.938570</td>\n",
       "      <td>0.871843</td>\n",
       "      <td>0.903977</td>\n",
       "      <td>2138.000000</td>\n",
       "    </tr>\n",
       "    <tr>\n",
       "      <th>accuracy</th>\n",
       "      <td>0.905263</td>\n",
       "      <td>0.905263</td>\n",
       "      <td>0.905263</td>\n",
       "      <td>0.905263</td>\n",
       "    </tr>\n",
       "    <tr>\n",
       "      <th>macro avg</th>\n",
       "      <td>0.906842</td>\n",
       "      <td>0.906049</td>\n",
       "      <td>0.905246</td>\n",
       "      <td>4180.000000</td>\n",
       "    </tr>\n",
       "    <tr>\n",
       "      <th>weighted avg</th>\n",
       "      <td>0.907571</td>\n",
       "      <td>0.905263</td>\n",
       "      <td>0.905217</td>\n",
       "      <td>4180.000000</td>\n",
       "    </tr>\n",
       "  </tbody>\n",
       "</table>\n",
       "</div>"
      ],
      "text/plain": [
       "              precision    recall  f1-score      support\n",
       "bad            0.875114  0.940255  0.906516  2042.000000\n",
       "good           0.938570  0.871843  0.903977  2138.000000\n",
       "accuracy       0.905263  0.905263  0.905263     0.905263\n",
       "macro avg      0.906842  0.906049  0.905246  4180.000000\n",
       "weighted avg   0.907571  0.905263  0.905217  4180.000000"
      ]
     },
     "execution_count": 13,
     "metadata": {},
     "output_type": "execute_result"
    }
   ],
   "source": [
    "# Split the upsampled binary data into features (X) and target label (y)\n",
    "X_upsampled_binary = df_upsampled_binary['review_comment']\n",
    "y_upsampled_binary = df_upsampled_binary['review_rating']\n",
    "\n",
    "# Split the upsampled data into training and testing sets\n",
    "X_train_upsampled_binary, X_test_upsampled_binary, y_train_upsampled_binary, y_test_upsampled_binary = train_test_split(\n",
    "    X_upsampled_binary, y_upsampled_binary, test_size=0.2, random_state=42)\n",
    "\n",
    "# Train the model with the upsampled binary training data\n",
    "text_clf_upsampled_binary = make_pipeline(vectorizer, model)\n",
    "text_clf_upsampled_binary.fit(X_train_upsampled_binary, y_train_upsampled_binary)\n",
    "\n",
    "# Predict the categories of the upsampled binary test data\n",
    "y_pred_upsampled_binary = text_clf_upsampled_binary.predict(X_test_upsampled_binary)\n",
    "\n",
    "# Calculate the classification report for the upsampled binary data\n",
    "report_upsampled_binary = classification_report(y_test_upsampled_binary, y_pred_upsampled_binary, output_dict=True)\n",
    "\n",
    "# Calculate the confusion matrix for the upsampled binary data\n",
    "conf_matrix_upsampled_binary = confusion_matrix(y_test_upsampled_binary, y_pred_upsampled_binary)\n",
    "\n",
    "# Convert classification report to DataFrame for better visualization\n",
    "report_upsampled_binary_df = pd.DataFrame(report_upsampled_binary).transpose()\n",
    "\n",
    "# Plot confusion matrix as a heatmap\n",
    "plt.figure(figsize=(8, 6))\n",
    "sns.heatmap(conf_matrix_upsampled_binary, annot=True, fmt='d', cmap='Blues', \n",
    "            xticklabels=['bad', 'good'], yticklabels=['bad', 'good'])\n",
    "plt.ylabel('Actual')\n",
    "plt.xlabel('Predicted')\n",
    "plt.title('Confusion Matrix')\n",
    "plt.show()\n",
    "\n",
    "report_upsampled_binary_df\n"
   ]
  },
  {
   "cell_type": "markdown",
   "metadata": {},
   "source": [
    "## Test Set"
   ]
  },
  {
   "cell_type": "code",
   "execution_count": 14,
   "metadata": {
    "scrolled": true
   },
   "outputs": [
    {
     "name": "stderr",
     "output_type": "stream",
     "text": [
      "C:\\Users\\elits\\AppData\\Local\\Temp\\ipykernel_6720\\71584182.py:8: SettingWithCopyWarning: \n",
      "A value is trying to be set on a copy of a slice from a DataFrame.\n",
      "Try using .loc[row_indexer,col_indexer] = value instead\n",
      "\n",
      "See the caveats in the documentation: https://pandas.pydata.org/pandas-docs/stable/user_guide/indexing.html#returning-a-view-versus-a-copy\n",
      "  test_set_clean['review_rating'] = pd.to_numeric(test_set_clean['review_rating'], errors='coerce')\n"
     ]
    },
    {
     "data": {
      "text/plain": [
       "(              precision    recall  f1-score     support\n",
       " bad            0.333333  0.769231  0.465116   13.000000\n",
       " good           0.975000  0.854015  0.910506  137.000000\n",
       " accuracy       0.846667  0.846667  0.846667    0.846667\n",
       " macro avg      0.654167  0.811623  0.687811  150.000000\n",
       " weighted avg   0.919389  0.846667  0.871905  150.000000,\n",
       "                              course_name  \\\n",
       " 0               Advanced Microsoft Excel   \n",
       " 1     Agile and Scrum Project Management   \n",
       " 2   AI Applications for Business Success   \n",
       " 3   AI Applications for Business Success   \n",
       " 4  Building a 3-Statement Model in Excel   \n",
       " \n",
       "                                         lecture_name review_rating  \\\n",
       " 0            F1 to F12 - Using Excel's Function Keys          good   \n",
       " 1                   Agile vs Waterfall - Conclusions           bad   \n",
       " 2                          Correlation vs. Causation           bad   \n",
       " 3                          Correlation vs. Causation           bad   \n",
       " 4  Calculating Cash Flows and Completing the Mode...          good   \n",
       " \n",
       "                                       review_comment  \n",
       " 0                                           perfect   \n",
       " 1               the scrum chapter are full of errors  \n",
       " 2                bad quality of audio and narrative   \n",
       " 3                 i need documentation about lecture  \n",
       " 4  great course ned has a talent for explaining t...  )"
      ]
     },
     "execution_count": 14,
     "metadata": {},
     "output_type": "execute_result"
    }
   ],
   "source": [
    "# Load the test set, handling bad lines\n",
    "test_set = pd.read_csv('user_courses_review_test_set.csv')\n",
    "\n",
    "# Remove rows with missing 'review_comment' or 'review_rating'\n",
    "test_set_clean = test_set.dropna(subset=['review_comment', 'review_rating'])\n",
    "\n",
    "# Convert 'review_rating' to float and handle potential conversion issues\n",
    "test_set_clean['review_rating'] = pd.to_numeric(test_set_clean['review_rating'], errors='coerce')\n",
    "\n",
    "# Check for any 'NaN' in 'review_rating' after conversion and remove those rows\n",
    "test_set_clean = test_set_clean.dropna(subset=['review_rating'])\n",
    "\n",
    "# Function to categorize reviews\n",
    "def binary_rating(rating):\n",
    "    # considering the rating is now a float, we'll compare with 4.0 instead of 4\n",
    "    return 'good' if rating >= 4.0 else 'bad'\n",
    "\n",
    "# Clean the 'review_comment' texts\n",
    "test_set_clean['review_comment'] = test_set_clean['review_comment'].apply(clean_text)\n",
    "\n",
    "# Apply the 'binary_rating' function to categorize 'review_rating'\n",
    "test_set_clean['review_rating'] = test_set_clean['review_rating'].apply(binary_rating)\n",
    "\n",
    "# Ensure the preprocessing steps have been successfully applied\n",
    "preprocessed_test_set_clean_structure = test_set_clean.head()\n",
    "\n",
    "# Prepare the features and labels from the cleaned test set for model application\n",
    "X_test_set_clean = test_set_clean['review_comment']\n",
    "y_test_set_clean = test_set_clean['review_rating']\n",
    "\n",
    "# Use the trained model to predict the sentiments of the reviews in the cleaned test set\n",
    "y_pred_test_set_clean = text_clf_upsampled_binary.predict(X_test_set_clean)\n",
    "\n",
    "# Calculate the classification report for the cleaned test set predictions\n",
    "report_test_set_clean = classification_report(y_test_set_clean, y_pred_test_set_clean, output_dict=True)\n",
    "\n",
    "# Calculate the confusion matrix for the cleaned test set predictions\n",
    "conf_matrix_test_set_clean = confusion_matrix(y_test_set_clean, y_pred_test_set_clean)\n",
    "\n",
    "# Convert classification report to DataFrame for better visualization\n",
    "report_test_set_clean_df = pd.DataFrame(report_test_set_clean).transpose()\n",
    "\n",
    "\n",
    "report_test_set_clean_df, preprocessed_test_set_clean_structure\n"
   ]
  },
  {
   "cell_type": "code",
   "execution_count": 15,
   "metadata": {},
   "outputs": [
    {
     "data": {
      "image/png": "[encoded data removed]",
      "text/plain": [
       "<Figure size 800x600 with 2 Axes>"
      ]
     },
     "metadata": {},
     "output_type": "display_data"
    }
   ],
   "source": [
    "# Plot confusion matrix as a heatmap\n",
    "plt.figure(figsize=(8, 6))\n",
    "sns.heatmap(conf_matrix_test_set_clean, annot=True, fmt='d', cmap='Blues', \n",
    "            xticklabels=['bad', 'good'], yticklabels=['bad', 'good'])\n",
    "plt.ylabel('Actual')\n",
    "plt.xlabel('Predicted')\n",
    "plt.title('Confusion Matrix')\n",
    "plt.show()\n"
   ]
  },
  {
   "cell_type": "code",
   "execution_count": null,
   "metadata": {},
   "outputs": [],
   "source": []
  },
  {
   "cell_type": "code",
   "execution_count": null,
   "metadata": {},
   "outputs": [],
   "source": []
  }
 ],
 "metadata": {
  "kernelspec": {
   "display_name": "Python 3 (ipykernel)",
   "language": "python",
   "name": "python3"
  },
  "language_info": {
   "codemirror_mode": {
    "name": "ipython",
    "version": 3
   },
   "file_extension": ".py",
   "mimetype": "text/x-python",
   "name": "python",
   "nbconvert_exporter": "python",
   "pygments_lexer": "ipython3",
   "version": "3.11.5"
  }
 },
 "nbformat": 4,
 "nbformat_minor": 4
}
